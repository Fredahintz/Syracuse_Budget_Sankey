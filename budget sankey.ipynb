{
 "cells": [
  {
   "cell_type": "code",
   "execution_count": 1,
   "metadata": {},
   "outputs": [],
   "source": [
    "import plotly.graph_objects as go\n",
    "import pandas as pd\n",
    "import urllib\n",
    "import requests\n",
    "import json"
   ]
  },
  {
   "cell_type": "code",
   "execution_count": 2,
   "metadata": {},
   "outputs": [],
   "source": [
    "expend_API = requests.get('https://services6.arcgis.com/bdPqSfflsdgFRVVM/arcgis/rest/services/Proposed_Budget_Expenditures_(Fiscal_Year_2022_2023)/FeatureServer/0/query?outFields=*&where=1%3D1&f=geojson')\n",
    "revenue_API = requests.get('https://services6.arcgis.com/bdPqSfflsdgFRVVM/arcgis/rest/services/FY_2022_2023_Proposed_Budget_(Revenue_Only_Reviewed_By_Budget)/FeatureServer/0/query?outFields=*&where=1%3D1&f=geojson')"
   ]
  },
  {
   "cell_type": "code",
   "execution_count": 6,
   "metadata": {},
   "outputs": [],
   "source": [
    "expendtext = expend_API.text\n",
    "expendjson = pd.read_json(expendtext)\n",
    "expend = pd.json_normalize(expendjson.features)\n",
    "expend = expend.rename(columns = {\"properties.Fund_Name\": \"Fund_Name\", \n",
    "                        \"properties.Dept_Name\": \"Dept_Name\", \n",
    "                        \"properties.Account_Name\":\"Account_Name\",\n",
    "                        \"properties.Budget\": \"Budget\",\n",
    "                        \"properties.FID\":\"FID\"})\n",
    "filter_e = expend['Dept_Name'] != \"Total All Departments\"\n",
    "expend = expend.where(filter_e)"
   ]
  },
  {
   "cell_type": "code",
   "execution_count": 7,
   "metadata": {},
   "outputs": [],
   "source": [
    "revenuetext = revenue_API.text\n",
    "revenuejson = pd.read_json(revenuetext)\n",
    "revenue = pd.json_normalize(revenuejson.features)\n",
    "revenue = revenue.rename(columns = {\"properties.Fund_Name\": \"Fund_Name\", \n",
    "                        \"properties.Dept_Name\": \"Dept_Name\", \n",
    "                        \"properties.Account\":\"Account\",\n",
    "                        \"properties.Budget\": \"Budget\",\n",
    "                        \"properties.FID\":\"FID\"})\n",
    "filter = revenue['Fund_Name'] != \"NET TOTAL - ALL FUNDS\"\n",
    "revenue = revenue.where(filter)"
   ]
  },
  {
   "cell_type": "code",
   "execution_count": null,
   "metadata": {},
   "outputs": [],
   "source": []
  },
  {
   "cell_type": "code",
   "execution_count": 8,
   "metadata": {},
   "outputs": [
    {
     "data": {
      "text/plain": [
       "array(['GENERAL FUND', 'TAX LEVY', 'AVIATION FUND', 'WATER FUND',\n",
       "       'SEWER FUND', 'DOWNTOWN SPECIAL ASSESSMENT ',\n",
       "       'CROUSE- MARSHALL SPECIAL ASSESSMENT ', 'LESS INTERFUND REVENUES',\n",
       "       nan], dtype=object)"
      ]
     },
     "execution_count": 8,
     "metadata": {},
     "output_type": "execute_result"
    }
   ],
   "source": [
    "revenue.Fund_Name.unique()"
   ]
  },
  {
   "cell_type": "code",
   "execution_count": 9,
   "metadata": {},
   "outputs": [],
   "source": [
    "FundTotals = revenue.groupby(['Fund_Name']).sum().reset_index()\n",
    "ftsource = list(range( 0 , ( len(FundTotals) ) ) )\n",
    "FundTotals['source'] = ftsource\n",
    "ftdict = dict(zip(FundTotals.Fund_Name,FundTotals.source))"
   ]
  },
  {
   "cell_type": "code",
   "execution_count": 10,
   "metadata": {},
   "outputs": [
    {
     "data": {
      "text/plain": [
       "{'AVIATION FUND': 0,\n",
       " 'CROUSE- MARSHALL SPECIAL ASSESSMENT ': 1,\n",
       " 'DOWNTOWN SPECIAL ASSESSMENT ': 2,\n",
       " 'GENERAL FUND': 3,\n",
       " 'LESS INTERFUND REVENUES': 4,\n",
       " 'SEWER FUND': 5,\n",
       " 'TAX LEVY': 6,\n",
       " 'WATER FUND': 7}"
      ]
     },
     "execution_count": 10,
     "metadata": {},
     "output_type": "execute_result"
    }
   ],
   "source": [
    "ftdict"
   ]
  },
  {
   "cell_type": "code",
   "execution_count": 11,
   "metadata": {},
   "outputs": [
    {
     "data": {
      "text/html": [
       "<div>\n",
       "<style scoped>\n",
       "    .dataframe tbody tr th:only-of-type {\n",
       "        vertical-align: middle;\n",
       "    }\n",
       "\n",
       "    .dataframe tbody tr th {\n",
       "        vertical-align: top;\n",
       "    }\n",
       "\n",
       "    .dataframe thead th {\n",
       "        text-align: right;\n",
       "    }\n",
       "</style>\n",
       "<table border=\"1\" class=\"dataframe\">\n",
       "  <thead>\n",
       "    <tr style=\"text-align: right;\">\n",
       "      <th></th>\n",
       "      <th>Fund_Name</th>\n",
       "      <th>id</th>\n",
       "      <th>Budget</th>\n",
       "      <th>FID</th>\n",
       "      <th>source</th>\n",
       "    </tr>\n",
       "  </thead>\n",
       "  <tbody>\n",
       "    <tr>\n",
       "      <th>0</th>\n",
       "      <td>AVIATION FUND</td>\n",
       "      <td>141.0</td>\n",
       "      <td>746413.0</td>\n",
       "      <td>141.0</td>\n",
       "      <td>0</td>\n",
       "    </tr>\n",
       "    <tr>\n",
       "      <th>1</th>\n",
       "      <td>CROUSE- MARSHALL SPECIAL ASSESSMENT</td>\n",
       "      <td>201.0</td>\n",
       "      <td>113750.0</td>\n",
       "      <td>201.0</td>\n",
       "      <td>1</td>\n",
       "    </tr>\n",
       "    <tr>\n",
       "      <th>2</th>\n",
       "      <td>DOWNTOWN SPECIAL ASSESSMENT</td>\n",
       "      <td>294.0</td>\n",
       "      <td>1024400.0</td>\n",
       "      <td>294.0</td>\n",
       "      <td>2</td>\n",
       "    </tr>\n",
       "    <tr>\n",
       "      <th>3</th>\n",
       "      <td>GENERAL FUND</td>\n",
       "      <td>9012.0</td>\n",
       "      <td>254299053.0</td>\n",
       "      <td>9012.0</td>\n",
       "      <td>3</td>\n",
       "    </tr>\n",
       "    <tr>\n",
       "      <th>4</th>\n",
       "      <td>LESS INTERFUND REVENUES</td>\n",
       "      <td>102.0</td>\n",
       "      <td>-2825000.0</td>\n",
       "      <td>102.0</td>\n",
       "      <td>4</td>\n",
       "    </tr>\n",
       "    <tr>\n",
       "      <th>5</th>\n",
       "      <td>SEWER FUND</td>\n",
       "      <td>285.0</td>\n",
       "      <td>7153500.0</td>\n",
       "      <td>285.0</td>\n",
       "      <td>5</td>\n",
       "    </tr>\n",
       "    <tr>\n",
       "      <th>6</th>\n",
       "      <td>TAX LEVY</td>\n",
       "      <td>137.0</td>\n",
       "      <td>40851161.0</td>\n",
       "      <td>137.0</td>\n",
       "      <td>6</td>\n",
       "    </tr>\n",
       "    <tr>\n",
       "      <th>7</th>\n",
       "      <td>WATER FUND</td>\n",
       "      <td>1815.0</td>\n",
       "      <td>27892034.0</td>\n",
       "      <td>1815.0</td>\n",
       "      <td>7</td>\n",
       "    </tr>\n",
       "  </tbody>\n",
       "</table>\n",
       "</div>"
      ],
      "text/plain": [
       "                              Fund_Name      id       Budget     FID  source\n",
       "0                         AVIATION FUND   141.0     746413.0   141.0       0\n",
       "1  CROUSE- MARSHALL SPECIAL ASSESSMENT    201.0     113750.0   201.0       1\n",
       "2          DOWNTOWN SPECIAL ASSESSMENT    294.0    1024400.0   294.0       2\n",
       "3                          GENERAL FUND  9012.0  254299053.0  9012.0       3\n",
       "4               LESS INTERFUND REVENUES   102.0   -2825000.0   102.0       4\n",
       "5                            SEWER FUND   285.0    7153500.0   285.0       5\n",
       "6                              TAX LEVY   137.0   40851161.0   137.0       6\n",
       "7                            WATER FUND  1815.0   27892034.0  1815.0       7"
      ]
     },
     "execution_count": 11,
     "metadata": {},
     "output_type": "execute_result"
    }
   ],
   "source": [
    "FundTotals"
   ]
  },
  {
   "cell_type": "code",
   "execution_count": 68,
   "metadata": {},
   "outputs": [],
   "source": [
    "Dept_Totals = revenue.groupby(['Fund_Name','Dept_Name'])['Budget'].sum().reset_index()\n",
    "Dept_Totals = Dept_Totals[Dept_Totals.Budget > 0]\n",
    "dtsource = list(range( len( FundTotals) , \n",
    "                      ( len(Dept_Totals) + (len(FundTotals)) ) \n",
    "                     ) \n",
    "                )\n",
    "Dept_Totals['Dept_Name'] = Dept_Totals['Dept_Name'] + \" revenue\"\n",
    "Dept_Totals[ 'source' ] = dtsource\n",
    "Dept_Totals[ 'target' ] =  Dept_Totals[ 'Fund_Name' ].map( ftdict )\n",
    "\n",
    "dtdict = dict(zip(Dept_Totals.Dept_Name, Dept_Totals.source))\n"
   ]
  },
  {
   "cell_type": "code",
   "execution_count": 69,
   "metadata": {},
   "outputs": [],
   "source": [
    "eDept_Totals = expend.groupby(['Fund_Name','Dept_Name'])['Budget'].sum().reset_index()\n",
    "\n",
    "\n",
    "eDept_Totals[ 'source' ] = 3\n",
    "eDept_Totals[ 'target' ] = range(( len(Dept_Totals) + (len(FundTotals)) ),\n",
    "                                 ( len(Dept_Totals) + (len(FundTotals)) ) + len(eDept_Totals))\n",
    "\n",
    "edict=dict(zip(eDept_Totals.Dept_Name,eDept_Totals.target))\n",
    "\n"
   ]
  },
  {
   "cell_type": "code",
   "execution_count": 70,
   "metadata": {},
   "outputs": [
    {
     "data": {
      "text/plain": [
       "{'API': 31,\n",
       " 'Assessment': 32,\n",
       " 'Board of Assessment Review': 33,\n",
       " 'Board of Zoning': 34,\n",
       " 'Bureau of Accounts': 35,\n",
       " 'Bureau of Administrative Adjudication': 36,\n",
       " 'Bureau of CPC': 37,\n",
       " 'Bureau of Information Technology': 38,\n",
       " 'Bureau of Research': 39,\n",
       " 'Citizen Review Board': 40,\n",
       " \"City Clerk's Office\": 41,\n",
       " 'Common Council': 42,\n",
       " 'DPW Main': 43,\n",
       " 'Department of Audit': 44,\n",
       " 'Department of Code Enforcement': 45,\n",
       " 'Department of Engineering': 46,\n",
       " 'Department of Law': 47,\n",
       " 'Department of Neighborhood & Business': 48,\n",
       " 'Division of Building Services': 49,\n",
       " 'Division of Contract Compliance and Minority Affairs': 50,\n",
       " 'Division of Dog Control': 51,\n",
       " 'Division of Information & Service Requests': 52,\n",
       " 'Division of Motor Equipment Maintenance': 53,\n",
       " 'Division of Parks -Grounds Maintenance': 54,\n",
       " 'Division of Purchase': 55,\n",
       " 'Division of Recreation': 56,\n",
       " 'Division of Sewers and Streams': 57,\n",
       " 'Division of Snow and Ice Control': 58,\n",
       " 'Division of Street Cleaning': 59,\n",
       " 'Division of Street Repair': 60,\n",
       " 'Division of Transportation': 61,\n",
       " 'Division of Waste Collection, Recycling and Disposal': 62,\n",
       " 'Division of Water Engineering': 63,\n",
       " 'Division of Water Finance': 64,\n",
       " 'Financial Operations': 65,\n",
       " 'Fire Main -Sworn': 66,\n",
       " 'Fire Main-Civilian': 67,\n",
       " 'Office of Administration': 68,\n",
       " 'Office of Communications': 69,\n",
       " 'Office of Management & Budget': 70,\n",
       " 'Office of Personnel and Labor Relations': 71,\n",
       " 'Office of the Mayor': 72,\n",
       " 'Parking Ticket Collections Bureau': 73,\n",
       " 'Parks Administration': 74,\n",
       " 'Police Field Services-Civilian': 75,\n",
       " 'Police Field Services-Sworn': 76,\n",
       " 'Skaneateles Watershed Program': 77,\n",
       " 'Syracuse Opportunity Works': 78,\n",
       " 'Water Plant': 79,\n",
       " 'Water Quality Managemnet': 80}"
      ]
     },
     "execution_count": 70,
     "metadata": {},
     "output_type": "execute_result"
    }
   ],
   "source": [
    "edict"
   ]
  },
  {
   "cell_type": "code",
   "execution_count": 71,
   "metadata": {},
   "outputs": [],
   "source": [
    "revenue[ 'target' ] = revenue[ 'Dept_Name' ].map( dtdict )\n",
    "\n",
    "expend[ 'target' ] = expend[ 'Dept_Name' ].map( edict)"
   ]
  },
  {
   "cell_type": "code",
   "execution_count": 72,
   "metadata": {},
   "outputs": [
    {
     "data": {
      "text/plain": [
       "{'AVIATION FUND': 0,\n",
       " 'CROUSE- MARSHALL SPECIAL ASSESSMENT ': 1,\n",
       " 'DOWNTOWN SPECIAL ASSESSMENT ': 2,\n",
       " 'GENERAL FUND': 3,\n",
       " 'LESS INTERFUND REVENUES': 4,\n",
       " 'SEWER FUND': 5,\n",
       " 'TAX LEVY': 6,\n",
       " 'WATER FUND': 7,\n",
       " 'Aviation   revenue': 8,\n",
       " 'Crouse- Marshall Special Assessment  revenue': 9,\n",
       " 'Downtown Special Assessment   revenue': 10,\n",
       " 'Assessment revenue': 11,\n",
       " 'City Clerk revenue': 12,\n",
       " 'Code Enforcement revenue': 13,\n",
       " 'Federal Aid revenue': 14,\n",
       " 'Finance revenue': 15,\n",
       " 'Fire revenue': 16,\n",
       " 'Law revenue': 17,\n",
       " 'Miscellaneous Revenue revenue': 18,\n",
       " 'Non-Property Tax Items revenue': 19,\n",
       " 'Parks & Recreation revenue': 20,\n",
       " 'Police revenue': 21,\n",
       " 'Public Works revenue': 22,\n",
       " 'Real Property Tax Items revenue': 23,\n",
       " 'Sale of Property revenue': 24,\n",
       " 'State Aid revenue': 25,\n",
       " 'Surpluses & Balances revenue': 26,\n",
       " 'Use of Money & Property revenue': 27,\n",
       " 'Sewer  revenue': 28,\n",
       " 'Tax Levy revenue': 29,\n",
       " 'Water   revenue': 30,\n",
       " 'Unreserved, Undesignated': 94.0,\n",
       " '410010 School District Tax Buyout': 2.0,\n",
       " '410020 Special Lighting Assessments': 3.0,\n",
       " '410030 Assessable Improvements': 4.0,\n",
       " '410040 Assessable Improvements Buyout': 5.0,\n",
       " '410810 PILOT - Non-Profit Houses': 6.0,\n",
       " '410830 PILOT - Ontrack': 7.0,\n",
       " '410840 PILOT - SIDA': 8.0,\n",
       " '410850 PILOT - SU DOME': 9.0,\n",
       " \"410500 Prior Years' Tax Collection\": 10.0,\n",
       " '410900 Fees & Penalties': 101.0,\n",
       " '425940 Light Works Infrastructure Payment': 12.0,\n",
       " 'Less: Uncollected City Taxes - Current Year': 13.0,\n",
       " '411100 Sales Tax': 14.0,\n",
       " '411300 Utilities Gross Receipts Tax': 15.0,\n",
       " '411700 CATV Franchise Fee': 16.0,\n",
       " '411710 Right of Way Franchise Fee': 17.0,\n",
       " '425910 SU Service Agreement': 18.0,\n",
       " '425920 SU Service - Supplemental': 19.0,\n",
       " '415900 SU DOME Traffic Reimbursement': 20.0,\n",
       " '412300 Abstract Fees': 21.0,\n",
       " '412310 Duplicate Tax Bill Fee': 22.0,\n",
       " '412320 County Tax Collection Fee': 23.0,\n",
       " '415800 Parking Restitution Surcharge': 24.0,\n",
       " '415810 Handicapped Parking Surcharge': 25.0,\n",
       " '425400 License Comm. Bingo Licenses': 26.0,\n",
       " '425410 Bingo Receipts': 27.0,\n",
       " '425420 License Comm. Games of Chance Receipts': 28.0,\n",
       " '425450 Licenses': 29.0,\n",
       " '425470 Licenses Comm. Games of Chance Licenses': 30.0,\n",
       " '425750 Administrative Adjudication Receipts': 31.0,\n",
       " '425950 Service Kill Fees': 87.0,\n",
       " '426100 Fines & Penalties Viol/Traffic': 33.0,\n",
       " '426610 Sale of Tax Property': 34.0,\n",
       " '427500 Parking Ticket Receipts': 35.0,\n",
       " '427520 PVB Court Costs/Charges': 36.0,\n",
       " '427710 Returned Check Fees': 93.0,\n",
       " '427700 Misc. Receipts': 92.0,\n",
       " '412550 City Clerk Licenses': 39.0,\n",
       " '415600 Building Inspection Charges': 40.0,\n",
       " '415650 Boardup/Cleanup Charges': 41.0,\n",
       " '415700 DEMO Charges - Unsafe Building': 42.0,\n",
       " '415870 Vacant Property Registry': 43.0,\n",
       " '415890 Rental Registry Fees': 44.0,\n",
       " '417441 Small Cell Permits': 45.0,\n",
       " '425500 Building & Property Permits': 46.0,\n",
       " '425560 Certificate of Compliance': 47.0,\n",
       " '425570 Board of Zoning - Appeals': 48.0,\n",
       " '422600 Code Enforcement Reimburse-Outside Agencies': 49.0,\n",
       " '425700 Building & Property Rehab Electric Lic': 50.0,\n",
       " '425710 Building & Property Heating Lic': 51.0,\n",
       " '425720 Building & Property Elevator Permits': 52.0,\n",
       " '433890 State Aid - Traffic Control Ctr': 53.0,\n",
       " '435210 AIM State Aid': 54.0,\n",
       " '435100 State Aid - Highway Maint': 55.0,\n",
       " 'Federal American Relief Plan': 56.0,\n",
       " '423040 Onondaga County Lighting Reimbursement': 57.0,\n",
       " '426550 Bid & Specs Revenue': 58.0,\n",
       " '426800 Insurance Recoveries': 91.0,\n",
       " '426900 Misc Compensation for Loss': 60.0,\n",
       " '427000 Medicare Part D Subsidy': 61.0,\n",
       " '428010 Aviation Fund Reimbursements': 62.0,\n",
       " '450350 Transfer from - Water Fund': 63.0,\n",
       " '450360 Transfer from - Sewer Fund': 64.0,\n",
       " '427110 Premium on Bonds/RANs': 65.0,\n",
       " '450370 Transfer from - Capital Fund': 66.0,\n",
       " '450312 Transfer from - Municipal Sidewalks': 67.0,\n",
       " 'Tax Levy': 68.0,\n",
       " '1% Added Pursuant to Law': 69.0,\n",
       " '460000 Airport Reimbursements - Operating': 70.0,\n",
       " '461000 Airport Reimbursements - Debt': 71.0,\n",
       " '421400 Sale of Water': 73.0,\n",
       " '421420 Water Frontage Tax': 74.0,\n",
       " '421440 Fire Service Installation': 75.0,\n",
       " '421450 Lead Pipe Removal': 76.0,\n",
       " '421460 Water Turn-on/Turn-off': 77.0,\n",
       " '421480 Interest and Penalties': 78.0,\n",
       " '421490 Pending Penalties': 96.0,\n",
       " '421500 Meter Repairs': 80.0,\n",
       " '421510 Infrastructure Improvement Fee': 81.0,\n",
       " '424010 Interest of Deposits': 146.0,\n",
       " '424100 Rental of Real Property': 148.0,\n",
       " '424140 Rental of Equipment': 149.0,\n",
       " '425600 Fees/Paving Cuts': 85.0,\n",
       " '425900 Water Meter Installation': 86.0,\n",
       " '426000 Fire Service Maintenance Fee': 88.0,\n",
       " '426500 Sale of Scrap Equipment': 150.0,\n",
       " '426750 Gain on Disposal of Assets': 151.0,\n",
       " '421200 Sewer Rents': 95.0,\n",
       " 'Special Assessment - Downtown': 97.0,\n",
       " 'Fees & Penalties': 98.0,\n",
       " 'Allowance for Uncollected Assessment': 99.0,\n",
       " '400532 Special Assessment - Crouse Marshall': 100.0,\n",
       " 'NA': 102.0,\n",
       " nan: nan,\n",
       " '425480 Certificates of Use': 104.0,\n",
       " '420000 Festival Beverage Revenue': 105.0,\n",
       " '420010 P & R Fee & Concessions': 106.0,\n",
       " '420020 Clinton Square Rink Fees': 107.0,\n",
       " '420250 P & R Ballfield Fees': 108.0,\n",
       " '420120 P & R Reimbursement - Outside Agency': 109.0,\n",
       " '426110 P & R Animal Control Fines': 110.0,\n",
       " '415380 Fire Reimbursement - Outside Agencies': 111.0,\n",
       " '415400 Fire- Reports & Records': 112.0,\n",
       " '422620 EMS Reimbursement - New York State': 113.0,\n",
       " '415200 Police Reports, Records & Fingerprints': 114.0,\n",
       " '415940 Police Auctioned Evidence': 115.0,\n",
       " '412110 City Court Criminal Div': 116.0,\n",
       " '415880 Annual Alarm Fee': 117.0,\n",
       " '415910 Police Services - Outside Agencies': 118.0,\n",
       " '415930 Police Training Classes Rev': 119.0,\n",
       " '415950 Police Unclaimed Property': 120.0,\n",
       " '427150 City Court Bail Forfeitures': 121.0,\n",
       " '412200 Housing Court Fines': 122.0,\n",
       " '417100 DPW Charges for Services': 123.0,\n",
       " '417110 DPW Paving Cuts - Non-Refund': 124.0,\n",
       " '417120 DPW Charges - Outside Agencies': 125.0,\n",
       " '417140 DPW Liability Waiver Permit': 126.0,\n",
       " '417150 DPW Block Party Revenue': 127.0,\n",
       " '417200 Parking Lots': 128.0,\n",
       " '417270 Fayette St Garage': 129.0,\n",
       " '417280 Madison Irving Garage': 130.0,\n",
       " '417290 Harrison St Garage': 131.0,\n",
       " '417310 Washington St Garage': 132.0,\n",
       " '417320 Armory Square Garage': 133.0,\n",
       " '417330 ONCenter Parking Garage': 134.0,\n",
       " '417340 MONY Parking Garage': 135.0,\n",
       " '417400 Parking Meter Receipts': 136.0,\n",
       " '417420 DPW Loading Zone Permits': 137.0,\n",
       " '417430 DPW Sidewalk Permits': 138.0,\n",
       " '417440 DPW Sidewalk Cafe Permits': 139.0,\n",
       " '421300 Recycling Revenues': 140.0,\n",
       " '421310 Refuse & Garbage Charges': 141.0,\n",
       " \"423010 DPW Charges - Other Gov't\": 142.0,\n",
       " '427730 Parking Garage Registration': 143.0,\n",
       " '426620 Title Work': 144.0,\n",
       " '426630 Appraisal Fees': 145.0,\n",
       " '424020 Bankruptcy Fees': 147.0,\n",
       " '430000 State Aid - Misc': 152.0,\n",
       " '430050 State Aid - Mortgage Tax': 153.0,\n",
       " '430080 State Aid - State Highway Aid': 154.0,\n",
       " '438200 State Aid - Youth Projects': 155.0}"
      ]
     },
     "execution_count": 72,
     "metadata": {},
     "output_type": "execute_result"
    }
   ],
   "source": [
    "rdict = dict(zip(revenue.Account,revenue.FID))\n",
    "\n",
    "rlabels = {**ftdict, **dtdict, **rdict}\n",
    "\n",
    "rlabels"
   ]
  },
  {
   "cell_type": "code",
   "execution_count": 73,
   "metadata": {},
   "outputs": [],
   "source": [
    "revsankey = revenue[['FID','target','Budget']].rename(columns = {'FID':'source','Budget':'value'})\n",
    "\n"
   ]
  },
  {
   "cell_type": "code",
   "execution_count": 74,
   "metadata": {},
   "outputs": [
    {
     "data": {
      "text/plain": [
       "array(['Surpluses & Balances', 'Real Property Tax Items',\n",
       "       'Non-Property Tax Items', 'Finance', 'City Clerk',\n",
       "       'Code Enforcement', 'State Aid', 'Federal Aid',\n",
       "       'Miscellaneous Revenue', 'Tax Levy', 'Aviation  ', 'Water  ',\n",
       "       'Sewer ', 'Downtown Special Assessment  ',\n",
       "       'Crouse- Marshall Special Assessment ', 'NA', nan,\n",
       "       'Parks & Recreation', 'Fire', 'Police', 'Law', 'Public Works',\n",
       "       'Assessment', 'Use of Money & Property', 'Sale of Property'],\n",
       "      dtype=object)"
      ]
     },
     "execution_count": 74,
     "metadata": {},
     "output_type": "execute_result"
    }
   ],
   "source": [
    "revenue.Dept_Name.unique()"
   ]
  },
  {
   "cell_type": "code",
   "execution_count": 75,
   "metadata": {},
   "outputs": [],
   "source": [
    "dtsankey = Dept_Totals[['source','target','Budget']].rename(columns = {'Budget':'value'})\n",
    "\n",
    "esankey = eDept_Totals[['source','target','Budget']].rename(columns = {'Budget':'value'})\n",
    "\n",
    "r_e_combined = pd.concat([dtsankey,esankey])\n",
    "\n",
    "revsankey = pd.concat([dtsankey , revsankey])"
   ]
  },
  {
   "cell_type": "code",
   "execution_count": 76,
   "metadata": {},
   "outputs": [],
   "source": [
    "colordict = {0:\"rgba(27,158,119,0.5)\",\n",
    "             1:\"rgba(217,95,2,0.5)\",\n",
    "             2:\"rgba(117,112,179,0.5)\",\n",
    "             3:\"rgba(231,41,138,0.5)\",\n",
    "             4:\"rgba(102,166,30,0.5)\",\n",
    "             5:\"rgba(230,171,2,0.5)\",\n",
    "             6:\"rgba(166,118,29,0.5)\",\n",
    "             7:\"rgba(27,158,119,0.5)\",\n",
    "             8:\"rgba(255,127,0,0.5)\"\n",
    "            }"
   ]
  },
  {
   "cell_type": "code",
   "execution_count": 77,
   "metadata": {},
   "outputs": [],
   "source": [
    "nodecolors = pd.concat([FundTotals.source.map(colordict), dtsankey.target.map(colordict)])\n",
    "\n",
    "linkcolors = dtsankey.target.map(colordict)"
   ]
  },
  {
   "cell_type": "code",
   "execution_count": 79,
   "metadata": {},
   "outputs": [],
   "source": [
    "#revsankey\n",
    "\n",
    "rsdict = dict( source = revsankey['source'].to_list(),\n",
    "                target = revsankey['target'].to_list(),\n",
    "                value = revsankey['value'].to_list() )\n",
    "\n",
    "dept_sankey = dict( source = dtsankey[ 'source' ].to_list(),\n",
    "                           target = dtsankey[ 'target' ].to_list(),\n",
    "                           value = dtsankey[ 'value' ].to_list() ,\n",
    "                           color = linkcolors)\n",
    "\n",
    "r_e_sankey = dict( source = r_e_combined[ 'source' ].to_list(),\n",
    "                   target = r_e_combined[ 'target' ].to_list(),\n",
    "                   value = r_e_combined[ 'value' ].to_list() )\n"
   ]
  },
  {
   "cell_type": "code",
   "execution_count": 80,
   "metadata": {},
   "outputs": [],
   "source": [
    "rllist = list(rlabels.keys())\n",
    "\n",
    "dlabels = {**ftdict, **dtdict, **edict}\n",
    "\n",
    "dllist = list(dlabels.keys())"
   ]
  },
  {
   "cell_type": "code",
   "execution_count": 81,
   "metadata": {},
   "outputs": [
    {
     "data": {
      "text/plain": [
       "{'Aviation   revenue': 8,\n",
       " 'Crouse- Marshall Special Assessment  revenue': 9,\n",
       " 'Downtown Special Assessment   revenue': 10,\n",
       " 'Assessment revenue': 11,\n",
       " 'City Clerk revenue': 12,\n",
       " 'Code Enforcement revenue': 13,\n",
       " 'Federal Aid revenue': 14,\n",
       " 'Finance revenue': 15,\n",
       " 'Fire revenue': 16,\n",
       " 'Law revenue': 17,\n",
       " 'Miscellaneous Revenue revenue': 18,\n",
       " 'Non-Property Tax Items revenue': 19,\n",
       " 'Parks & Recreation revenue': 20,\n",
       " 'Police revenue': 21,\n",
       " 'Public Works revenue': 22,\n",
       " 'Real Property Tax Items revenue': 23,\n",
       " 'Sale of Property revenue': 24,\n",
       " 'State Aid revenue': 25,\n",
       " 'Surpluses & Balances revenue': 26,\n",
       " 'Use of Money & Property revenue': 27,\n",
       " 'Sewer  revenue': 28,\n",
       " 'Tax Levy revenue': 29,\n",
       " 'Water   revenue': 30}"
      ]
     },
     "execution_count": 81,
     "metadata": {},
     "output_type": "execute_result"
    }
   ],
   "source": [
    "dtdict"
   ]
  },
  {
   "cell_type": "markdown",
   "metadata": {},
   "source": [
    "TOO COMPLICATED!!! Why not do one by department? "
   ]
  },
  {
   "cell_type": "code",
   "execution_count": 85,
   "metadata": {},
   "outputs": [
    {
     "data": {
      "application/vnd.plotly.v1+json": {
       "config": {
        "plotlyServerURL": "https://plot.ly"
       },
       "data": [
        {
         "link": {
          "source": [
           8,
           9,
           10,
           11,
           12,
           13,
           14,
           15,
           16,
           17,
           18,
           19,
           20,
           21,
           22,
           23,
           24,
           25,
           26,
           27,
           28,
           29,
           30,
           3,
           3,
           3,
           3,
           3,
           3,
           3,
           3,
           3,
           3,
           3,
           3,
           3,
           3,
           3,
           3,
           3,
           3,
           3,
           3,
           3,
           3,
           3,
           3,
           3,
           3,
           3,
           3,
           3,
           3,
           3,
           3,
           3,
           3,
           3,
           3,
           3,
           3,
           3,
           3,
           3,
           3,
           3,
           3,
           3,
           3,
           3,
           3,
           3,
           3
          ],
          "target": [
           0,
           1,
           2,
           3,
           3,
           3,
           3,
           3,
           3,
           3,
           3,
           3,
           3,
           3,
           3,
           3,
           3,
           3,
           3,
           3,
           5,
           6,
           7,
           31,
           32,
           33,
           34,
           35,
           36,
           37,
           38,
           39,
           40,
           41,
           42,
           43,
           44,
           45,
           46,
           47,
           48,
           49,
           50,
           51,
           52,
           53,
           54,
           55,
           56,
           57,
           58,
           59,
           60,
           61,
           62,
           63,
           64,
           65,
           66,
           67,
           68,
           69,
           70,
           71,
           72,
           73,
           74,
           75,
           76,
           77,
           78,
           79,
           80
          ],
          "value": [
           746413,
           113750,
           1024400,
           24000,
           62000,
           2852000,
           16736551,
           4843263,
           38000,
           300000,
           3094714,
           118041000,
           1005000,
           1170000,
           6151600,
           7152949,
           1010000,
           76077129,
           15630847,
           110000,
           7153500,
           40851161,
           27892034,
           646577,
           772334,
           18200,
           7500,
           1004453,
           354479,
           1220888,
           3685487,
           403662,
           264938,
           355418,
           627719,
           1736584,
           622950,
           4394302,
           1481263,
           3859982,
           932762,
           4097692,
           173721,
           108000,
           1132787,
           5847176,
           4780709,
           114178,
           4291237,
           3033413,
           3975779,
           1736915,
           1476926,
           8035756,
           8335721,
           1360545,
           162408,
           897009,
           40971307,
           1288801,
           111655,
           328496,
           410167,
           1195552,
           846720,
           364867,
           577668,
           6087675,
           49779675,
           963946,
           95000,
           8748419,
           979279
          ]
         },
         "node": {
          "label": [
           "AVIATION FUND",
           "CROUSE- MARSHALL SPECIAL ASSESSMENT ",
           "DOWNTOWN SPECIAL ASSESSMENT ",
           "GENERAL FUND",
           "LESS INTERFUND REVENUES",
           "SEWER FUND",
           "TAX LEVY",
           "WATER FUND",
           "Aviation   revenue",
           "Crouse- Marshall Special Assessment  revenue",
           "Downtown Special Assessment   revenue",
           "Assessment revenue",
           "City Clerk revenue",
           "Code Enforcement revenue",
           "Federal Aid revenue",
           "Finance revenue",
           "Fire revenue",
           "Law revenue",
           "Miscellaneous Revenue revenue",
           "Non-Property Tax Items revenue",
           "Parks & Recreation revenue",
           "Police revenue",
           "Public Works revenue",
           "Real Property Tax Items revenue",
           "Sale of Property revenue",
           "State Aid revenue",
           "Surpluses & Balances revenue",
           "Use of Money & Property revenue",
           "Sewer  revenue",
           "Tax Levy revenue",
           "Water   revenue",
           "API",
           "Assessment",
           "Board of Assessment Review",
           "Board of Zoning",
           "Bureau of Accounts",
           "Bureau of Administrative Adjudication",
           "Bureau of CPC",
           "Bureau of Information Technology",
           "Bureau of Research",
           "Citizen Review Board",
           "City Clerk's Office",
           "Common Council",
           "DPW Main",
           "Department of Audit",
           "Department of Code Enforcement",
           "Department of Engineering",
           "Department of Law",
           "Department of Neighborhood & Business",
           "Division of Building Services",
           "Division of Contract Compliance and Minority Affairs",
           "Division of Dog Control",
           "Division of Information & Service Requests",
           "Division of Motor Equipment Maintenance",
           "Division of Parks -Grounds Maintenance",
           "Division of Purchase",
           "Division of Recreation",
           "Division of Sewers and Streams",
           "Division of Snow and Ice Control",
           "Division of Street Cleaning",
           "Division of Street Repair",
           "Division of Transportation",
           "Division of Waste Collection, Recycling and Disposal",
           "Division of Water Engineering",
           "Division of Water Finance",
           "Financial Operations",
           "Fire Main -Sworn",
           "Fire Main-Civilian",
           "Office of Administration",
           "Office of Communications",
           "Office of Management & Budget",
           "Office of Personnel and Labor Relations",
           "Office of the Mayor",
           "Parking Ticket Collections Bureau",
           "Parks Administration",
           "Police Field Services-Civilian",
           "Police Field Services-Sworn",
           "Skaneateles Watershed Program",
           "Syracuse Opportunity Works",
           "Water Plant",
           "Water Quality Managemnet"
          ],
          "line": {
           "color": "black",
           "width": 0.5
          },
          "pad": 15,
          "thickness": 20
         },
         "type": "sankey"
        }
       ],
       "layout": {
        "font": {
         "size": 10
        },
        "height": 1500,
        "margin": {
         "b": 150
        },
        "template": {
         "data": {
          "bar": [
           {
            "error_x": {
             "color": "#2a3f5f"
            },
            "error_y": {
             "color": "#2a3f5f"
            },
            "marker": {
             "line": {
              "color": "#E5ECF6",
              "width": 0.5
             },
             "pattern": {
              "fillmode": "overlay",
              "size": 10,
              "solidity": 0.2
             }
            },
            "type": "bar"
           }
          ],
          "barpolar": [
           {
            "marker": {
             "line": {
              "color": "#E5ECF6",
              "width": 0.5
             },
             "pattern": {
              "fillmode": "overlay",
              "size": 10,
              "solidity": 0.2
             }
            },
            "type": "barpolar"
           }
          ],
          "carpet": [
           {
            "aaxis": {
             "endlinecolor": "#2a3f5f",
             "gridcolor": "white",
             "linecolor": "white",
             "minorgridcolor": "white",
             "startlinecolor": "#2a3f5f"
            },
            "baxis": {
             "endlinecolor": "#2a3f5f",
             "gridcolor": "white",
             "linecolor": "white",
             "minorgridcolor": "white",
             "startlinecolor": "#2a3f5f"
            },
            "type": "carpet"
           }
          ],
          "choropleth": [
           {
            "colorbar": {
             "outlinewidth": 0,
             "ticks": ""
            },
            "type": "choropleth"
           }
          ],
          "contour": [
           {
            "colorbar": {
             "outlinewidth": 0,
             "ticks": ""
            },
            "colorscale": [
             [
              0,
              "#0d0887"
             ],
             [
              0.1111111111111111,
              "#46039f"
             ],
             [
              0.2222222222222222,
              "#7201a8"
             ],
             [
              0.3333333333333333,
              "#9c179e"
             ],
             [
              0.4444444444444444,
              "#bd3786"
             ],
             [
              0.5555555555555556,
              "#d8576b"
             ],
             [
              0.6666666666666666,
              "#ed7953"
             ],
             [
              0.7777777777777778,
              "#fb9f3a"
             ],
             [
              0.8888888888888888,
              "#fdca26"
             ],
             [
              1,
              "#f0f921"
             ]
            ],
            "type": "contour"
           }
          ],
          "contourcarpet": [
           {
            "colorbar": {
             "outlinewidth": 0,
             "ticks": ""
            },
            "type": "contourcarpet"
           }
          ],
          "heatmap": [
           {
            "colorbar": {
             "outlinewidth": 0,
             "ticks": ""
            },
            "colorscale": [
             [
              0,
              "#0d0887"
             ],
             [
              0.1111111111111111,
              "#46039f"
             ],
             [
              0.2222222222222222,
              "#7201a8"
             ],
             [
              0.3333333333333333,
              "#9c179e"
             ],
             [
              0.4444444444444444,
              "#bd3786"
             ],
             [
              0.5555555555555556,
              "#d8576b"
             ],
             [
              0.6666666666666666,
              "#ed7953"
             ],
             [
              0.7777777777777778,
              "#fb9f3a"
             ],
             [
              0.8888888888888888,
              "#fdca26"
             ],
             [
              1,
              "#f0f921"
             ]
            ],
            "type": "heatmap"
           }
          ],
          "heatmapgl": [
           {
            "colorbar": {
             "outlinewidth": 0,
             "ticks": ""
            },
            "colorscale": [
             [
              0,
              "#0d0887"
             ],
             [
              0.1111111111111111,
              "#46039f"
             ],
             [
              0.2222222222222222,
              "#7201a8"
             ],
             [
              0.3333333333333333,
              "#9c179e"
             ],
             [
              0.4444444444444444,
              "#bd3786"
             ],
             [
              0.5555555555555556,
              "#d8576b"
             ],
             [
              0.6666666666666666,
              "#ed7953"
             ],
             [
              0.7777777777777778,
              "#fb9f3a"
             ],
             [
              0.8888888888888888,
              "#fdca26"
             ],
             [
              1,
              "#f0f921"
             ]
            ],
            "type": "heatmapgl"
           }
          ],
          "histogram": [
           {
            "marker": {
             "pattern": {
              "fillmode": "overlay",
              "size": 10,
              "solidity": 0.2
             }
            },
            "type": "histogram"
           }
          ],
          "histogram2d": [
           {
            "colorbar": {
             "outlinewidth": 0,
             "ticks": ""
            },
            "colorscale": [
             [
              0,
              "#0d0887"
             ],
             [
              0.1111111111111111,
              "#46039f"
             ],
             [
              0.2222222222222222,
              "#7201a8"
             ],
             [
              0.3333333333333333,
              "#9c179e"
             ],
             [
              0.4444444444444444,
              "#bd3786"
             ],
             [
              0.5555555555555556,
              "#d8576b"
             ],
             [
              0.6666666666666666,
              "#ed7953"
             ],
             [
              0.7777777777777778,
              "#fb9f3a"
             ],
             [
              0.8888888888888888,
              "#fdca26"
             ],
             [
              1,
              "#f0f921"
             ]
            ],
            "type": "histogram2d"
           }
          ],
          "histogram2dcontour": [
           {
            "colorbar": {
             "outlinewidth": 0,
             "ticks": ""
            },
            "colorscale": [
             [
              0,
              "#0d0887"
             ],
             [
              0.1111111111111111,
              "#46039f"
             ],
             [
              0.2222222222222222,
              "#7201a8"
             ],
             [
              0.3333333333333333,
              "#9c179e"
             ],
             [
              0.4444444444444444,
              "#bd3786"
             ],
             [
              0.5555555555555556,
              "#d8576b"
             ],
             [
              0.6666666666666666,
              "#ed7953"
             ],
             [
              0.7777777777777778,
              "#fb9f3a"
             ],
             [
              0.8888888888888888,
              "#fdca26"
             ],
             [
              1,
              "#f0f921"
             ]
            ],
            "type": "histogram2dcontour"
           }
          ],
          "mesh3d": [
           {
            "colorbar": {
             "outlinewidth": 0,
             "ticks": ""
            },
            "type": "mesh3d"
           }
          ],
          "parcoords": [
           {
            "line": {
             "colorbar": {
              "outlinewidth": 0,
              "ticks": ""
             }
            },
            "type": "parcoords"
           }
          ],
          "pie": [
           {
            "automargin": true,
            "type": "pie"
           }
          ],
          "scatter": [
           {
            "fillpattern": {
             "fillmode": "overlay",
             "size": 10,
             "solidity": 0.2
            },
            "type": "scatter"
           }
          ],
          "scatter3d": [
           {
            "line": {
             "colorbar": {
              "outlinewidth": 0,
              "ticks": ""
             }
            },
            "marker": {
             "colorbar": {
              "outlinewidth": 0,
              "ticks": ""
             }
            },
            "type": "scatter3d"
           }
          ],
          "scattercarpet": [
           {
            "marker": {
             "colorbar": {
              "outlinewidth": 0,
              "ticks": ""
             }
            },
            "type": "scattercarpet"
           }
          ],
          "scattergeo": [
           {
            "marker": {
             "colorbar": {
              "outlinewidth": 0,
              "ticks": ""
             }
            },
            "type": "scattergeo"
           }
          ],
          "scattergl": [
           {
            "marker": {
             "colorbar": {
              "outlinewidth": 0,
              "ticks": ""
             }
            },
            "type": "scattergl"
           }
          ],
          "scattermapbox": [
           {
            "marker": {
             "colorbar": {
              "outlinewidth": 0,
              "ticks": ""
             }
            },
            "type": "scattermapbox"
           }
          ],
          "scatterpolar": [
           {
            "marker": {
             "colorbar": {
              "outlinewidth": 0,
              "ticks": ""
             }
            },
            "type": "scatterpolar"
           }
          ],
          "scatterpolargl": [
           {
            "marker": {
             "colorbar": {
              "outlinewidth": 0,
              "ticks": ""
             }
            },
            "type": "scatterpolargl"
           }
          ],
          "scatterternary": [
           {
            "marker": {
             "colorbar": {
              "outlinewidth": 0,
              "ticks": ""
             }
            },
            "type": "scatterternary"
           }
          ],
          "surface": [
           {
            "colorbar": {
             "outlinewidth": 0,
             "ticks": ""
            },
            "colorscale": [
             [
              0,
              "#0d0887"
             ],
             [
              0.1111111111111111,
              "#46039f"
             ],
             [
              0.2222222222222222,
              "#7201a8"
             ],
             [
              0.3333333333333333,
              "#9c179e"
             ],
             [
              0.4444444444444444,
              "#bd3786"
             ],
             [
              0.5555555555555556,
              "#d8576b"
             ],
             [
              0.6666666666666666,
              "#ed7953"
             ],
             [
              0.7777777777777778,
              "#fb9f3a"
             ],
             [
              0.8888888888888888,
              "#fdca26"
             ],
             [
              1,
              "#f0f921"
             ]
            ],
            "type": "surface"
           }
          ],
          "table": [
           {
            "cells": {
             "fill": {
              "color": "#EBF0F8"
             },
             "line": {
              "color": "white"
             }
            },
            "header": {
             "fill": {
              "color": "#C8D4E3"
             },
             "line": {
              "color": "white"
             }
            },
            "type": "table"
           }
          ]
         },
         "layout": {
          "annotationdefaults": {
           "arrowcolor": "#2a3f5f",
           "arrowhead": 0,
           "arrowwidth": 1
          },
          "autotypenumbers": "strict",
          "coloraxis": {
           "colorbar": {
            "outlinewidth": 0,
            "ticks": ""
           }
          },
          "colorscale": {
           "diverging": [
            [
             0,
             "#8e0152"
            ],
            [
             0.1,
             "#c51b7d"
            ],
            [
             0.2,
             "#de77ae"
            ],
            [
             0.3,
             "#f1b6da"
            ],
            [
             0.4,
             "#fde0ef"
            ],
            [
             0.5,
             "#f7f7f7"
            ],
            [
             0.6,
             "#e6f5d0"
            ],
            [
             0.7,
             "#b8e186"
            ],
            [
             0.8,
             "#7fbc41"
            ],
            [
             0.9,
             "#4d9221"
            ],
            [
             1,
             "#276419"
            ]
           ],
           "sequential": [
            [
             0,
             "#0d0887"
            ],
            [
             0.1111111111111111,
             "#46039f"
            ],
            [
             0.2222222222222222,
             "#7201a8"
            ],
            [
             0.3333333333333333,
             "#9c179e"
            ],
            [
             0.4444444444444444,
             "#bd3786"
            ],
            [
             0.5555555555555556,
             "#d8576b"
            ],
            [
             0.6666666666666666,
             "#ed7953"
            ],
            [
             0.7777777777777778,
             "#fb9f3a"
            ],
            [
             0.8888888888888888,
             "#fdca26"
            ],
            [
             1,
             "#f0f921"
            ]
           ],
           "sequentialminus": [
            [
             0,
             "#0d0887"
            ],
            [
             0.1111111111111111,
             "#46039f"
            ],
            [
             0.2222222222222222,
             "#7201a8"
            ],
            [
             0.3333333333333333,
             "#9c179e"
            ],
            [
             0.4444444444444444,
             "#bd3786"
            ],
            [
             0.5555555555555556,
             "#d8576b"
            ],
            [
             0.6666666666666666,
             "#ed7953"
            ],
            [
             0.7777777777777778,
             "#fb9f3a"
            ],
            [
             0.8888888888888888,
             "#fdca26"
            ],
            [
             1,
             "#f0f921"
            ]
           ]
          },
          "colorway": [
           "#636efa",
           "#EF553B",
           "#00cc96",
           "#ab63fa",
           "#FFA15A",
           "#19d3f3",
           "#FF6692",
           "#B6E880",
           "#FF97FF",
           "#FECB52"
          ],
          "font": {
           "color": "#2a3f5f"
          },
          "geo": {
           "bgcolor": "white",
           "lakecolor": "white",
           "landcolor": "#E5ECF6",
           "showlakes": true,
           "showland": true,
           "subunitcolor": "white"
          },
          "hoverlabel": {
           "align": "left"
          },
          "hovermode": "closest",
          "mapbox": {
           "style": "light"
          },
          "paper_bgcolor": "white",
          "plot_bgcolor": "#E5ECF6",
          "polar": {
           "angularaxis": {
            "gridcolor": "white",
            "linecolor": "white",
            "ticks": ""
           },
           "bgcolor": "#E5ECF6",
           "radialaxis": {
            "gridcolor": "white",
            "linecolor": "white",
            "ticks": ""
           }
          },
          "scene": {
           "xaxis": {
            "backgroundcolor": "#E5ECF6",
            "gridcolor": "white",
            "gridwidth": 2,
            "linecolor": "white",
            "showbackground": true,
            "ticks": "",
            "zerolinecolor": "white"
           },
           "yaxis": {
            "backgroundcolor": "#E5ECF6",
            "gridcolor": "white",
            "gridwidth": 2,
            "linecolor": "white",
            "showbackground": true,
            "ticks": "",
            "zerolinecolor": "white"
           },
           "zaxis": {
            "backgroundcolor": "#E5ECF6",
            "gridcolor": "white",
            "gridwidth": 2,
            "linecolor": "white",
            "showbackground": true,
            "ticks": "",
            "zerolinecolor": "white"
           }
          },
          "shapedefaults": {
           "line": {
            "color": "#2a3f5f"
           }
          },
          "ternary": {
           "aaxis": {
            "gridcolor": "white",
            "linecolor": "white",
            "ticks": ""
           },
           "baxis": {
            "gridcolor": "white",
            "linecolor": "white",
            "ticks": ""
           },
           "bgcolor": "#E5ECF6",
           "caxis": {
            "gridcolor": "white",
            "linecolor": "white",
            "ticks": ""
           }
          },
          "title": {
           "x": 0.05
          },
          "xaxis": {
           "automargin": true,
           "gridcolor": "white",
           "linecolor": "white",
           "ticks": "",
           "title": {
            "standoff": 15
           },
           "zerolinecolor": "white",
           "zerolinewidth": 2
          },
          "yaxis": {
           "automargin": true,
           "gridcolor": "white",
           "linecolor": "white",
           "ticks": "",
           "title": {
            "standoff": 15
           },
           "zerolinecolor": "white",
           "zerolinewidth": 2
          }
         }
        },
        "title": {
         "text": "City of Syracuse Budget Sankey Diagram"
        },
        "width": 1000
       }
      }
     },
     "metadata": {},
     "output_type": "display_data"
    }
   ],
   "source": [
    "fig = go.Figure(data = [go.Sankey(\n",
    "    node = dict(\n",
    "        pad = 15,\n",
    "        thickness = 20,\n",
    "        line = dict(color = \"black\", width = 0.5),\n",
    "        label = dllist,\n",
    "        #color = nodecolors\n",
    "    ),\n",
    "    link = r_e_sankey\n",
    ")])\n",
    "\n",
    "fig.update_layout(title_text=\"City of Syracuse Budget Sankey Diagram, projected 2022-2023\", font_size=10, width =1000, height = 1500, margin_b = 150)\n",
    "fig.show()"
   ]
  }
 ],
 "metadata": {
  "kernelspec": {
   "display_name": "Python 3.7.8 64-bit",
   "language": "python",
   "name": "python3"
  },
  "language_info": {
   "codemirror_mode": {
    "name": "ipython",
    "version": 3
   },
   "file_extension": ".py",
   "mimetype": "text/x-python",
   "name": "python",
   "nbconvert_exporter": "python",
   "pygments_lexer": "ipython3",
   "version": "3.7.8"
  },
  "orig_nbformat": 4,
  "vscode": {
   "interpreter": {
    "hash": "0a54084e6b208ee8d1ce3989ffc20924477a5f55f5a43e22e699a6741623861e"
   }
  }
 },
 "nbformat": 4,
 "nbformat_minor": 2
}
